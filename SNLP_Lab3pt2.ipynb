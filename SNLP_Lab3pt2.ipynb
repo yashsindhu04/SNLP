{
 "cells": [
  {
   "cell_type": "code",
   "execution_count": 11,
   "metadata": {},
   "outputs": [
    {
     "name": "stdout",
     "output_type": "stream",
     "text": [
      "<class 'pandas.core.frame.DataFrame'>\n",
      "RangeIndex: 99 entries, 0 to 98\n",
      "Data columns (total 2 columns):\n",
      " #   Column           Non-Null Count  Dtype \n",
      "---  ------           --------------  ----- \n",
      " 0   Input            99 non-null     object\n",
      " 1   Expected Output  99 non-null     object\n",
      "dtypes: object(2)\n",
      "memory usage: 1.7+ KB\n"
     ]
    },
    {
     "data": {
      "text/html": [
       "<div>\n",
       "<style scoped>\n",
       "    .dataframe tbody tr th:only-of-type {\n",
       "        vertical-align: middle;\n",
       "    }\n",
       "\n",
       "    .dataframe tbody tr th {\n",
       "        vertical-align: top;\n",
       "    }\n",
       "\n",
       "    .dataframe thead th {\n",
       "        text-align: right;\n",
       "    }\n",
       "</style>\n",
       "<table border=\"1\" class=\"dataframe\">\n",
       "  <thead>\n",
       "    <tr style=\"text-align: right;\">\n",
       "      <th></th>\n",
       "      <th>Input</th>\n",
       "      <th>Expected Output</th>\n",
       "    </tr>\n",
       "  </thead>\n",
       "  <tbody>\n",
       "    <tr>\n",
       "      <th>0</th>\n",
       "      <td>The event will take place on March 5, 2023.</td>\n",
       "      <td>05-03-2023</td>\n",
       "    </tr>\n",
       "    <tr>\n",
       "      <th>1</th>\n",
       "      <td>Her birthday is on 07/08/1990.</td>\n",
       "      <td>07-08-1990</td>\n",
       "    </tr>\n",
       "    <tr>\n",
       "      <th>2</th>\n",
       "      <td>The deadline is 2022-12-31.</td>\n",
       "      <td>31-12-2022</td>\n",
       "    </tr>\n",
       "    <tr>\n",
       "      <th>3</th>\n",
       "      <td>We met on 1st of January 2000.</td>\n",
       "      <td>01-01-2000</td>\n",
       "    </tr>\n",
       "    <tr>\n",
       "      <th>4</th>\n",
       "      <td>The concert is scheduled for 15th September, 2...</td>\n",
       "      <td>15-09-2021</td>\n",
       "    </tr>\n",
       "  </tbody>\n",
       "</table>\n",
       "</div>"
      ],
      "text/plain": [
       "                                               Input Expected Output\n",
       "0        The event will take place on March 5, 2023.      05-03-2023\n",
       "1                     Her birthday is on 07/08/1990.      07-08-1990\n",
       "2                        The deadline is 2022-12-31.      31-12-2022\n",
       "3                     We met on 1st of January 2000.      01-01-2000\n",
       "4  The concert is scheduled for 15th September, 2...      15-09-2021"
      ]
     },
     "execution_count": 11,
     "metadata": {},
     "output_type": "execute_result"
    }
   ],
   "source": [
    "import pandas as pd\n",
    "import re\n",
    "data = pd.read_csv('data/date_parser_testcases.csv')\n",
    "data.info()\n",
    "data.head()"
   ]
  },
  {
   "cell_type": "code",
   "execution_count": 41,
   "metadata": {},
   "outputs": [],
   "source": [
    "def create_date(out, key):\n",
    "    month_id = {'January': '01', 'February': '02', 'March': '03', 'April': '04', 'May': '05', 'June': '06', 'July': '07', 'August': '08', 'September': '09', 'October': '10', 'November': '11', 'December': '12', 'Dec': '12'}\n",
    "    if key == 'standard':\n",
    "        return re.sub(r'\\D', '/', out)\n",
    "    elif key == 'reversed':\n",
    "        return \"/\".join(reversed(re.findall(r'\\d+', out)))\n",
    "    elif key == 'short':\n",
    "        dmy =  re.findall(r'\\d+', out)\n",
    "        day = f\"0{dmy[0]}\" if len(dmy[0]) == 1 else dmy[0]\n",
    "        month = f\"0{dmy[1]}\" if len(dmy[1]) == 1 else dmy[1]\n",
    "        year = f\"20{dmy[2]}\" if int(dmy[2])<30 else f\"19{dmy[2]}\" # 2030 is the cutoff year\n",
    "        return f\"{day}/{month}/{year}\"\n",
    "    elif key == 'month day, yyyy':\n",
    "        month = month_id[out.split()[0]]\n",
    "        day = re.search(r'\\d{1,2}', out.split()[1]).group()\n",
    "        day = f\"0{day}\" if len(day) == 1 else day\n",
    "        year = out.split()[2]\n",
    "        return f\"{day}/{month}/{year}\"\n",
    "    elif key == 'day month yyyy':\n",
    "        out = out.replace(',', '')\n",
    "        day = re.search(r'\\d{1,2}', out.split()[0]).group()\n",
    "        day = f\"0{day}\" if len(day) == 1 else day\n",
    "        month = month_id[out.split()[-2]] # -2 since a word like on or of could occupy index 1\n",
    "        year = out.split()[-1]\n",
    "        return f\"{day}/{month}/{year}\"\n",
    "    elif key == 'other':\n",
    "        day = re.search(r'\\d{1,2}', out.split()[0]).group()\n",
    "        day = f\"0{day}\" if len(day) == 1 else day\n",
    "        month = month_id[out.split()[-2]]\n",
    "        year = out.split()[-1]\n",
    "        return f\"{day}/{month}/{year}\"\n",
    "\n"
   ]
  },
  {
   "cell_type": "code",
   "execution_count": 42,
   "metadata": {},
   "outputs": [],
   "source": [
    "def parse_date(input):\n",
    "    patterns = {'standard': r\"\\d{2}.\\d{2}.\\d{4}\",\n",
    "            'reversed': r\"\\d{4}.\\d{2}.\\d{2}\",\n",
    "            'short': r'\\d{1,2}.\\d{1,2}.\\d{2}',\n",
    "            'month day, yyyy': r'(January|February|March|April|May|June|July|August|September|October|November|December|Dec)+\\s+\\d{1,2}(?:st|nd|rd|th)?.\\s\\d{4}',\n",
    "            'day month yyyy': r'\\d{1,2}(?:st|nd|rd|th)\\s?(?:\\w+\\s*)?(January|February|March|April|May|June|July|August|September|October|November|December|Dec).?\\s+\\d{4}'}\n",
    "    \n",
    "    for key, pattern in patterns.items():\n",
    "        out = re.search(pattern, input)\n",
    "        if out:\n",
    "            return create_date(out.group(), key)\n",
    "        \n",
    "    dm = re.search(r'\\d{1,2}(?:st|nd|rd|th)\\s?(?:\\w+\\s*)?(January|February|March|April|May|June|July|August|September|October|November|December|Dec)', input)\n",
    "    year = re.search(r'\\d{4}', input)\n",
    "    if dm and year:\n",
    "        out = ' '.join([dm.group(), year.group()])\n",
    "        return create_date(out, 'other')\n",
    "            \n",
    "        \n",
    "    return None\n"
   ]
  },
  {
   "cell_type": "code",
   "execution_count": 43,
   "metadata": {},
   "outputs": [],
   "source": [
    "def test(test_cases):\n",
    "    fails = []\n",
    "    date = None\n",
    "    for i in range(len(test_cases)):\n",
    "        txt = test_cases['Input'][i]\n",
    "        date = parse_date(txt)\n",
    "        if date is None and date != test_cases['Expected Output'][i]:\n",
    "            fails.append(i)\n",
    "\n",
    "    return fails, len(fails)     \n"
   ]
  },
  {
   "cell_type": "code",
   "execution_count": 44,
   "metadata": {},
   "outputs": [
    {
     "name": "stdout",
     "output_type": "stream",
     "text": [
      "100 test cases passed\n"
     ]
    }
   ],
   "source": [
    "fail, n = test(data)\n",
    "print(100-n, 'test cases passed')\n",
    "### LOG\n",
    "## n_patterns = n_test cases passed\n",
    "# 2 = 54\n",
    "# 3 = 60\n",
    "# 4 = 74\n",
    "# 5 = 98\n",
    "# 6 = 100"
   ]
  },
  {
   "cell_type": "code",
   "execution_count": 37,
   "metadata": {},
   "outputs": [
    {
     "data": {
      "text/html": [
       "<div>\n",
       "<style scoped>\n",
       "    .dataframe tbody tr th:only-of-type {\n",
       "        vertical-align: middle;\n",
       "    }\n",
       "\n",
       "    .dataframe tbody tr th {\n",
       "        vertical-align: top;\n",
       "    }\n",
       "\n",
       "    .dataframe thead th {\n",
       "        text-align: right;\n",
       "    }\n",
       "</style>\n",
       "<table border=\"1\" class=\"dataframe\">\n",
       "  <thead>\n",
       "    <tr style=\"text-align: right;\">\n",
       "      <th></th>\n",
       "      <th>Input</th>\n",
       "      <th>Expected Output</th>\n",
       "    </tr>\n",
       "  </thead>\n",
       "  <tbody>\n",
       "    <tr>\n",
       "      <th>58</th>\n",
       "      <td>We celebrate Christmas every year on 25th Dec,...</td>\n",
       "      <td>25-12-2024</td>\n",
       "    </tr>\n",
       "    <tr>\n",
       "      <th>66</th>\n",
       "      <td>We celebrate Independence Day on the 4th of Ju...</td>\n",
       "      <td>04-07-2022</td>\n",
       "    </tr>\n",
       "  </tbody>\n",
       "</table>\n",
       "</div>"
      ],
      "text/plain": [
       "                                                Input Expected Output\n",
       "58  We celebrate Christmas every year on 25th Dec,...      25-12-2024\n",
       "66  We celebrate Independence Day on the 4th of Ju...      04-07-2022"
      ]
     },
     "execution_count": 37,
     "metadata": {},
     "output_type": "execute_result"
    }
   ],
   "source": [
    "# Viewing failed test cases\n",
    "data.iloc[fail]"
   ]
  }
 ],
 "metadata": {
  "kernelspec": {
   "display_name": "Python 3",
   "language": "python",
   "name": "python3"
  },
  "language_info": {
   "codemirror_mode": {
    "name": "ipython",
    "version": 3
   },
   "file_extension": ".py",
   "mimetype": "text/x-python",
   "name": "python",
   "nbconvert_exporter": "python",
   "pygments_lexer": "ipython3",
   "version": "3.12.4"
  }
 },
 "nbformat": 4,
 "nbformat_minor": 2
}
