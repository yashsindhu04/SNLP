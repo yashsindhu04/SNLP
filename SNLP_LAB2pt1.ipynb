{
 "cells": [
  {
   "cell_type": "code",
   "execution_count": 1,
   "metadata": {},
   "outputs": [],
   "source": [
    "import gensim.downloader as api\n",
    "\n",
    "wv_pretrained = api.load(\"word2vec-google-news-300\")"
   ]
  },
  {
   "cell_type": "markdown",
   "metadata": {},
   "source": [
    "### Most similar - 5 words"
   ]
  },
  {
   "cell_type": "code",
   "execution_count": 21,
   "metadata": {},
   "outputs": [
    {
     "name": "stdout",
     "output_type": "stream",
     "text": [
      "Most similar words to car:\n",
      "  vehicle: 0.78\n",
      "  cars: 0.74\n",
      "  SUV: 0.72\n",
      "  minivan: 0.69\n",
      "  truck: 0.67\n",
      "\n",
      "Most similar words to airplane:\n",
      "  plane: 0.83\n",
      "  airplanes: 0.78\n",
      "  aircraft: 0.76\n",
      "  planes: 0.73\n",
      "  jet: 0.72\n",
      "\n",
      "Most similar words to girl:\n",
      "  boy: 0.85\n",
      "  teenage_girl: 0.79\n",
      "  woman: 0.75\n",
      "  teenager: 0.72\n",
      "  schoolgirl: 0.71\n",
      "\n",
      "Most similar words to airplane:\n",
      "  plane: 0.83\n",
      "  airplanes: 0.78\n",
      "  aircraft: 0.76\n",
      "  planes: 0.73\n",
      "  jet: 0.72\n",
      "\n",
      "Most similar words to water:\n",
      "  potable_water: 0.68\n",
      "  Water: 0.67\n",
      "  sewage: 0.66\n",
      "  groundwater: 0.66\n",
      "  Floridan_aquifer: 0.64\n",
      "\n"
     ]
    }
   ],
   "source": [
    "words = ['car', 'airplane', 'girl', 'airplane', 'water']\n",
    "\n",
    "for word in words:\n",
    "    print(f\"Most similar words to {word}:\")\n",
    "    for similar_word, similarity in wv_pretrained.most_similar(word, topn=5):\n",
    "        print(f\"  {similar_word}: {similarity:.2f}\")\n",
    "    print()"
   ]
  },
  {
   "cell_type": "markdown",
   "metadata": {},
   "source": [
    "### Pos and neg"
   ]
  },
  {
   "cell_type": "code",
   "execution_count": 20,
   "metadata": {},
   "outputs": [
    {
     "data": {
      "text/plain": [
       "'worse'"
      ]
     },
     "execution_count": 20,
     "metadata": {},
     "output_type": "execute_result"
    }
   ],
   "source": [
    "# 1 better - good + bad = worse\n",
    "wv_pretrained.most_similar(positive=[\"better\", \"bad\"], negative=[\"good\"], topn=1)[0][0]"
   ]
  },
  {
   "cell_type": "code",
   "execution_count": 19,
   "metadata": {},
   "outputs": [
    {
     "data": {
      "text/plain": [
       "'actress'"
      ]
     },
     "execution_count": 19,
     "metadata": {},
     "output_type": "execute_result"
    }
   ],
   "source": [
    "# 2 actor - man + woman = actress\n",
    "wv_pretrained.most_similar(positive=[\"actor\", \"woman\"], negative=[\"man\"], topn=1)[0][0]"
   ]
  },
  {
   "cell_type": "code",
   "execution_count": 18,
   "metadata": {},
   "outputs": [
    {
     "data": {
      "text/plain": [
       "'running'"
      ]
     },
     "execution_count": 18,
     "metadata": {},
     "output_type": "execute_result"
    }
   ],
   "source": [
    "# 3 walking - walk + run = running\n",
    "wv_pretrained.most_similar(positive=[\"walking\", \"run\"], negative=[\"walk\"], topn=1)[0][0]"
   ]
  }
 ],
 "metadata": {
  "kernelspec": {
   "display_name": "Python 3",
   "language": "python",
   "name": "python3"
  },
  "language_info": {
   "codemirror_mode": {
    "name": "ipython",
    "version": 3
   },
   "file_extension": ".py",
   "mimetype": "text/x-python",
   "name": "python",
   "nbconvert_exporter": "python",
   "pygments_lexer": "ipython3",
   "version": "3.12.4"
  }
 },
 "nbformat": 4,
 "nbformat_minor": 2
}
